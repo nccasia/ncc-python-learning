{
 "cells": [
  {
   "cell_type": "markdown",
   "metadata": {},
   "source": [
    "# 1. Super vowels\n",
    "Implement `super_vowels` function which takes a string as an argument and returns a modified version of that string. In the return value of `super_vowels`, all vowels should be in upper case whereas all consonants should be in lower case. The vowels are listed in the `VOWELS` variable."
   ]
  },
  {
   "cell_type": "code",
   "execution_count": null,
   "metadata": {
    "editable": false
   },
   "outputs": [],
   "source": [
    "VOWELS = ['a', 'e', 'i', 'o', 'u']"
   ]
  },
  {
   "cell_type": "code",
   "execution_count": null,
   "metadata": {},
   "outputs": [],
   "source": [
    "# Your implementation here\n",
    "\n",
    "def super_vowels(mes:str):\n",
    "    try:\n",
    "        strs = mes.lower()\n",
    "        up=\"\"\n",
    "        for x in strs:\n",
    "            if x not in VOWELS:\n",
    "                up+=x.lower()\n",
    "            else:\n",
    "                up+=x.upper()\n",
    "    except :\n",
    "        print(\"something wrong at input\")\n",
    "    else:\n",
    "        return up"
   ]
  },
  {
   "cell_type": "code",
   "execution_count": null,
   "metadata": {
    "editable": false
   },
   "outputs": [],
   "source": [
    "assert super_vowels('hi wassup!') == 'hI wAssUp!'\n",
    "assert super_vowels('HOw aRE You?') == 'hOw ArE yOU?'"
   ]
  },
  {
   "cell_type": "markdown",
   "metadata": {},
   "source": [
    "# 2. Playing board\n",
    "Implement `get_playing_board` function which takes an integer as an argument. The function should return a string which resemples a playing board (e.g. a chess board). The board should contain as many rows and columns as requested by the interger argument. See the cell below for examples of desired behavior.\n"
   ]
  },
  {
   "cell_type": "code",
   "execution_count": null,
   "metadata": {},
   "outputs": [],
   "source": [
    "# Your implementation here\n",
    "\n",
    "def get_playing_board(nums:int):\n",
    "    board=''\n",
    "    \n",
    "    for i in range(nums):\n",
    "        for j in range(nums):\n",
    "            if i % 2 == 0 and j % 2 == 0:\n",
    "                board += ' '\n",
    "            elif i % 2 != 0 and j % 2 != 0:\n",
    "                board += ' '\n",
    "            else:\n",
    "                board += '*'\n",
    "        board += '\\n'\n",
    "    return board"
   ]
  },
  {
   "cell_type": "code",
   "execution_count": null,
   "metadata": {
    "editable": false
   },
   "outputs": [],
   "source": [
    "board_of_5 = (\n",
    "' * * \\n'\n",
    "'* * *\\n'\n",
    "' * * \\n'\n",
    "'* * *\\n'\n",
    "' * * \\n'\n",
    ")\n",
    "\n",
    "board_of_10 = (\n",
    "' * * * * *\\n'\n",
    "'* * * * * \\n'\n",
    "' * * * * *\\n'\n",
    "'* * * * * \\n'\n",
    "' * * * * *\\n'\n",
    "'* * * * * \\n'\n",
    "' * * * * *\\n'\n",
    "'* * * * * \\n'\n",
    "' * * * * *\\n'\n",
    "'* * * * * \\n'\n",
    ")\n",
    "\n",
    "assert get_playing_board(5) == board_of_5\n",
    "assert get_playing_board(10) == board_of_10\n",
    "\n",
    "print(get_playing_board(50))"
   ]
  }
 ],
 "metadata": {
  "kernelspec": {
   "display_name": "Python 3.10.5 64-bit",
   "language": "python",
   "name": "python3"
  },
  "language_info": {
   "codemirror_mode": {
    "name": "ipython",
    "version": 3
   },
   "file_extension": ".py",
   "mimetype": "text/x-python",
   "name": "python",
   "nbconvert_exporter": "python",
   "pygments_lexer": "ipython3",
   "version": "3.10.5"
  },
  "vscode": {
   "interpreter": {
    "hash": "783b8d369fb0cc42a40b012837a7d2684dbd176aa8784529de9698d20c169869"
   }
  }
 },
 "nbformat": 4,
 "nbformat_minor": 2
}
