{
 "cells": [
  {
   "cell_type": "markdown",
   "metadata": {},
   "source": [
    "# 1. [Rock-paper-scissors](https://en.wikipedia.org/wiki/Rock%E2%80%93paper%E2%80%93scissors) \n",
    "Implement `rock_paper_scissors` function which takes the player's rock-paper-scissors choice as an input (as integer), randomly selects the choice of the computer and reveals it (prints) and finally announces (prints) the result. The function should return `PLAYER_WINS`, `COMPUTER_WINS` or `TIE`."
   ]
  },
  {
   "cell_type": "code",
   "execution_count": null,
   "metadata": {
    "editable": false
   },
   "outputs": [],
   "source": [
    "# Constants, you should use these in your implementation\n",
    "ROCK = 1\n",
    "PAPER = 2\n",
    "SCISSORS = 3\n",
    "\n",
    "PLAYER_WINS = 'Player wins!! Woop woop!'\n",
    "COMPUTER_WINS = 'Robocop wins :-('\n",
    "TIE = \"It's a tie!\""
   ]
  },
  {
   "cell_type": "code",
   "execution_count": null,
   "metadata": {},
   "outputs": [],
   "source": [
    "# Your implementation here\n",
    "import random\n",
    "def rock_paper_scissors(choice):\n",
    "    computer = random.randint(1, 3)\n",
    "    result = \"It's a tie!\"\n",
    "    if choice < computer:\n",
    "        result = 'Robocop wins :-('\n",
    "    elif choice > computer:\n",
    "        result = 'Player wins!! Woop woop!'\n",
    "    return result"
   ]
  },
  {
   "cell_type": "markdown",
   "metadata": {},
   "source": [
    "Once you have finished the implementation of `rock_paper_scissors` function, you can check if it works as expected by playing the game:"
   ]
  },
  {
   "cell_type": "code",
   "execution_count": null,
   "metadata": {},
   "outputs": [],
   "source": [
    "def play_rps():\n",
    "    print('Welcome to play rock-paper-scissors')\n",
    "    print('The options are:\\nrock: 1\\npaper: 2\\nscissors: 3')\n",
    "\n",
    "    result = TIE\n",
    "    while result == TIE:\n",
    "        player_choice = input('Give your choice\\n')\n",
    "        \n",
    "        if not player_choice in ['1', '2', '3']:\n",
    "            print('Invalid choice')\n",
    "            continue\n",
    "            \n",
    "        result = rock_paper_scissors(int(player_choice))\n",
    "        \n",
    "if __name__ == '__main__':\n",
    "    play_rps()"
   ]
  },
  {
   "cell_type": "markdown",
   "metadata": {},
   "source": [
    "If you copy the code from above cells into a single .py file, you have a rock-paper-scissor command line game!"
   ]
  },
  {
   "cell_type": "markdown",
   "metadata": {},
   "source": [
    "# 2. Data analyzer\n",
    "Implement `DataAnalyzer` class which has the following specification:\n",
    "* `__init__` takes one argument which is a path to the file to be analyzed\n",
    "* `total_samples` method returns the amount of the data samples in the file\n",
    "* `average` method returns the average of the data samples in the file\n",
    "* `median` method returns the median of the data samples in the file\n",
    "* `max_value` method returns the maximum value of the data samples in the file\n",
    "* `min_value` method returns the minimum value of the data samples in the file\n",
    "* `create_report` method returns a report (string) of the file in the following format:\n",
    "\n",
    "```\n",
    "Report for <filename>\n",
    "samples: x\n",
    "average: x.xx\n",
    "median: xx.xx\n",
    "max: xx.xx\n",
    "min: x.xx\n",
    "```\n",
    " \n",
    "Note that average, median, max, and min should be presented with two decimal places in the report.\n",
    "\n",
    "The format of the input file is comma separated and the file contains only numeric values.\n",
    "\n",
    "If there is no data in the input file (empty file), `NoData` exception should be raised. Note: `NoData` should be your custom exception."
   ]
  },
  {
   "cell_type": "code",
   "execution_count": null,
   "metadata": {},
   "outputs": [],
   "source": [
    "# Your implementation here\n",
    "class NoData(RuntimeError):\n",
    "    def _init_(self, arg=\"Is empty\"):\n",
    "        self.args = arg\n",
    "        print(self.args)\n",
    "class DataAnalyzer:\n",
    "    def __init__(self, path):\n",
    "        isfile = os.path.isfile(path)\n",
    "        if isfile:\n",
    "            self.path = path\n",
    "            self.file = path.split('\\\\')[-1]\n",
    "            with open(self.path, 'r+', encoding='utf-8') as f:\n",
    "                if f.read() != '':\n",
    "                    p = f.read()\n",
    "                    p = p.split(',')\n",
    "                    self.total_samples = p[0]\n",
    "                    self.average = p[1]\n",
    "                    self.median = p[2]\n",
    "                    self.max_value = p[3]\n",
    "                    self.min_value = p[4]\n",
    "                else:\n",
    "                    print(\"No data in file\")\n",
    "        else:\n",
    "            raise NoData\n",
    "\n",
    "    def total_samples(self):\n",
    "        return self.total_samples\n",
    "\n",
    "    def average(self):\n",
    "        return self.average\n",
    "\n",
    "    def median(self):\n",
    "        return self.median\n",
    "\n",
    "    def max_value(self):\n",
    "        return self.max_value\n",
    "\n",
    "    def min_value(self):\n",
    "        return self.min_value\n",
    "\n",
    "    def create_report(self):\n",
    "        report = f'Report for {self.file}\\n'\n",
    "        report += f'samples: {float(self.total_samples):.0f}\\n'\n",
    "        report += f'average: {float (self.average):.2f}\\n'\n",
    "        report += f'median: {float(self.median):.2f}\\n'\n",
    "        report += f'max: {float(self.max_value):.2f}\\n'\n",
    "        report += f'min: {float(self.min_value):.2f}'\n",
    "        return report\n",
    "\n",
    "    \n",
    "    "
   ]
  },
  {
   "cell_type": "markdown",
   "metadata": {},
   "source": [
    "Let's verify it works."
   ]
  },
  {
   "cell_type": "code",
   "execution_count": null,
   "metadata": {
    "editable": false
   },
   "outputs": [],
   "source": [
    "import os\n",
    "WORKING_DIR = os.getcwd()\n",
    "DATA_DIR = os.path.join(os.path.dirname(WORKING_DIR), 'data')\n",
    "DATA_FILE = os.path.join(DATA_DIR, 'random_data.txt')\n",
    "\n",
    "da = DataAnalyzer(DATA_FILE)\n",
    "\n",
    "assert da.total_samples() == 20\n",
    "assert da.average() == 49.35\n",
    "assert da.median() == 47.5\n",
    "assert da.max_value() == 94\n",
    "assert da.min_value() == 4\n",
    "\n",
    "report = da.create_report()\n",
    "print(report)\n",
    "\n",
    "expected_report = (\n",
    "'Report for random_data.txt\\n'\n",
    "'samples: 20\\n'\n",
    "'average: 49.35\\n'\n",
    "'median: 47.50\\n'\n",
    "'max: 94.00\\n'\n",
    "'min: 4.00')\n",
    "assert report == expected_report "
   ]
  },
  {
   "cell_type": "markdown",
   "metadata": {},
   "source": [
    "Let's check that it raises `NoData` with empty file."
   ]
  },
  {
   "cell_type": "code",
   "execution_count": null,
   "metadata": {
    "editable": false
   },
   "outputs": [],
   "source": [
    "EMPTY_FILE = os.path.join(DATA_DIR, 'empty_file.txt')\n",
    "try:\n",
    "    da_empty = DataAnalyzer(EMPTY_FILE)\n",
    "except NoData:\n",
    "    print('All ok :)')\n",
    "else: # There was no exception\n",
    "    assert False"
   ]
  }
 ],
 "metadata": {
  "kernelspec": {
   "display_name": "Python 3.10.5 64-bit",
   "language": "python",
   "name": "python3"
  },
  "language_info": {
   "codemirror_mode": {
    "name": "ipython",
    "version": 3
   },
   "file_extension": ".py",
   "mimetype": "text/x-python",
   "name": "python",
   "nbconvert_exporter": "python",
   "pygments_lexer": "ipython3",
   "version": "3.10.5"
  },
  "vscode": {
   "interpreter": {
    "hash": "783b8d369fb0cc42a40b012837a7d2684dbd176aa8784529de9698d20c169869"
   }
  }
 },
 "nbformat": 4,
 "nbformat_minor": 2
}
