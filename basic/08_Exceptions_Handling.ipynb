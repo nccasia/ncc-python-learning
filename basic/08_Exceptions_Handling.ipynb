{
 "cells": [
  {
   "cell_type": "markdown",
   "metadata": {},
   "source": [
    "<small><small><i>\n",
    "All the IPython Notebooks in **Python Files** lecture series by **[Dr. Milaan Parmar](https://www.linkedin.com/in/milaanparmar/)** are available @ **[GitHub](https://github.com/milaan9/05_Python_Files)**\n",
    "</i></small></small>"
   ]
  },
  {
   "cell_type": "markdown",
   "metadata": {},
   "source": [
    "# Python Exceptions Handling Using `try`, `except` and `finally` statement\n",
    "\n",
    "In this class, you'll learn how to handle exceptions in your Python program using try, except and finally statements with the help of examples."
   ]
  },
  {
   "cell_type": "markdown",
   "metadata": {},
   "source": [
    "## Exceptions in Python\n",
    "\n",
    "An **exception** is an event, which occurs during the execution of a program that disrupts the normal flow of the program's instructions. In general, when a Python script encounters a situation that it cannot cope with, it raises an exception. An exception is a Python object that **represents an error**.\n",
    "\n",
    "Python has many **[built-in exceptions](https://github.com/milaan9/05_Python_Files/blob/main/003_Python_File_Exception.ipynb)** that are raised when your program encounters an error (something in the program goes wrong).\n",
    "\n",
    "When a Python script raises an exception, it must either handle the exception immediately otherwise it **terminates** and **quits**.\n",
    "\n",
    "When these exceptions occur, the Python interpreter stops the current process and passes it to the calling process until it is handled. If not handled, the program will crash.\n",
    "\n",
    "For example, let us consider a program where we have a function **`A`** that calls **[function](https://github.com/milaan9/04_Python_Functions/blob/main/001_Python_Functions.ipynb)** **`B`**, which in turn calls function **`C`**. If an exception occurs in function **`C`** but is not handled in **`C`**, the exception passes to **`B`** and then to **`A`**.\n",
    "\n",
    "If never handled, an error message is displayed and our program comes to a sudden unexpected halt."
   ]
  },
  {
   "cell_type": "markdown",
   "metadata": {},
   "source": [
    "## Catching Exceptions in Python\n",
    "\n",
    "In Python, exceptions can be handled using a **`try`** statement.\n",
    "\n",
    "The critical operation which can raise an exception is placed inside the **`try`** clause. The code that handles the exceptions is written in the **`except`** clause.\n",
    "\n",
    "We can thus choose what operations to perform once we have caught the exception. Here is a simple example."
   ]
  },
  {
   "cell_type": "code",
   "execution_count": 1,
   "metadata": {
    "ExecuteTime": {
     "end_time": "2021-10-18T18:22:14.133537Z",
     "start_time": "2021-10-18T18:22:14.121821Z"
    }
   },
   "outputs": [
    {
     "name": "stdout",
     "output_type": "stream",
     "text": [
      "Something went wrong\n"
     ]
    }
   ],
   "source": [
    "# Example 1:\n",
    "\n",
    "try:\n",
    "    print(10 + '5')\n",
    "except:\n",
    "    print('Something went wrong')"
   ]
  },
  {
   "cell_type": "markdown",
   "metadata": {},
   "source": [
    "**Explanation:**\n",
    "\n",
    "In the example above the second operand is a string. We could change it to float or int to add it with the number to make it work. But without any changes, the second block, **`except`**, will be executed."
   ]
  },
  {
   "cell_type": "code",
   "execution_count": 2,
   "metadata": {
    "ExecuteTime": {
     "end_time": "2021-10-18T18:22:14.164787Z",
     "start_time": "2021-10-18T18:22:14.138420Z"
    }
   },
   "outputs": [
    {
     "name": "stdout",
     "output_type": "stream",
     "text": [
      "The entry is a\n",
      "Oops! <class 'ValueError'> occurred.\n",
      "Next entry.\n",
      "\n",
      "The entry is 0\n",
      "Oops! <class 'ZeroDivisionError'> occurred.\n",
      "Next entry.\n",
      "\n",
      "The entry is 2\n",
      "The reciprocal of 2 is 0.5\n"
     ]
    }
   ],
   "source": [
    "# Example 2:\n",
    "\n",
    "# import module sys to get the type of exception\n",
    "import sys\n",
    "\n",
    "randomList = ['a', 0, 2]\n",
    "\n",
    "for entry in randomList:\n",
    "    try:\n",
    "        print(\"The entry is\", entry)\n",
    "        r = 1/int(entry)\n",
    "        break\n",
    "    except:\n",
    "        print(\"Oops!\", sys.exc_info()[0], \"occurred.\")\n",
    "        print(\"Next entry.\")\n",
    "        print()\n",
    "print(\"The reciprocal of\", entry, \"is\", r)"
   ]
  },
  {
   "cell_type": "markdown",
   "metadata": {},
   "source": [
    "**Explanation:**\n",
    "\n",
    "In this program, we loop through the values of the **`randomList`** list. As previously mentioned, the portion that can cause an exception is placed inside the **`try`** block.\n",
    "\n",
    "If no exception occurs, the **`except`** block is skipped and normal flow continues(for last value). But if any exception occurs, it is caught by the **`except`** block (first and second values).\n",
    "\n",
    "Here, we print the name of the exception using the **`exc_info()`** function inside sys module. We can see that a causes **`ValueError`** and **`0`** causes **`ZeroDivisionError`**."
   ]
  },
  {
   "cell_type": "markdown",
   "metadata": {},
   "source": [
    "Since every exception in Python inherits from the base **`Exception`** class, we can also perform the above task in the following way:"
   ]
  },
  {
   "cell_type": "code",
   "execution_count": 3,
   "metadata": {
    "ExecuteTime": {
     "end_time": "2021-10-18T18:22:14.257073Z",
     "start_time": "2021-10-18T18:22:14.167716Z"
    },
    "scrolled": true
   },
   "outputs": [
    {
     "name": "stdout",
     "output_type": "stream",
     "text": [
      "The entry is a\n",
      "Oops! <class 'ValueError'> occurred.\n",
      "Next entry.\n",
      "\n",
      "The entry is 0\n",
      "Oops! <class 'ZeroDivisionError'> occurred.\n",
      "Next entry.\n",
      "\n",
      "The entry is 2\n",
      "The reciprocal of 2 is 0.5\n"
     ]
    }
   ],
   "source": [
    "# Example 3:\n",
    "\n",
    "# This program has the same output as the above program.\n",
    "\n",
    "# import module sys to get the type of exception\n",
    "import sys\n",
    "\n",
    "randomList = ['a', 0, 2]\n",
    "\n",
    "for entry in randomList:\n",
    "    try:\n",
    "        print(\"The entry is\", entry)\n",
    "        r = 1/int(entry)\n",
    "        break\n",
    "    except Exception as e:\n",
    "        print(\"Oops!\", e.__class__, \"occurred.\")\n",
    "        print(\"Next entry.\")\n",
    "        print()\n",
    "print(\"The reciprocal of\", entry, \"is\", r)"
   ]
  },
  {
   "cell_type": "code",
   "execution_count": 3,
   "metadata": {
    "ExecuteTime": {
     "end_time": "2021-10-18T18:22:21.569073Z",
     "start_time": "2021-10-18T18:22:14.260978Z"
    }
   },
   "outputs": [
    {
     "name": "stdout",
     "output_type": "stream",
     "text": [
      "Something went wrong\n"
     ]
    }
   ],
   "source": [
    "# Example 4:\n",
    "\n",
    "try:\n",
    "    name = input('Enter your name: ')\n",
    "    year_born = input('Year you were born: ')\n",
    "    age = 2022 - year_born\n",
    "    print(f'You are {name}. And your age is {age}.')\n",
    "except:\n",
    "    print('Something went wrong')"
   ]
  },
  {
   "cell_type": "markdown",
   "metadata": {},
   "source": [
    "**Explanation:**\n",
    "\n",
    "In the above example, the exception block will run and we do not know exactly the problem. To analyze the problem, we can use the different error types with except."
   ]
  },
  {
   "cell_type": "markdown",
   "metadata": {},
   "source": [
    "In the following example, it will handle the error and will also tell us the kind of error raised."
   ]
  },
  {
   "cell_type": "code",
   "execution_count": 4,
   "metadata": {
    "ExecuteTime": {
     "end_time": "2021-10-18T18:22:33.280977Z",
     "start_time": "2021-10-18T18:22:21.572006Z"
    }
   },
   "outputs": [
    {
     "name": "stdout",
     "output_type": "stream",
     "text": [
      "Type error occured:unsupported operand type(s) for -: 'int' and 'str'\n"
     ]
    }
   ],
   "source": [
    "# Example 5:\n",
    "\n",
    "try:\n",
    "    name = input('Enter your name: ')\n",
    "    year_born = input('Year you were born: ')\n",
    "    age = 2022 - year_born\n",
    "    print(f'You are {name}. And your age is {age}.')\n",
    "except TypeError as e:\n",
    "    print('Type error occured:' + str(e))\n",
    "except ValueError:\n",
    "    print('Value error occured')\n",
    "except ZeroDivisionError:\n",
    "    print('zero division error occured')"
   ]
  },
  {
   "cell_type": "markdown",
   "metadata": {},
   "source": [
    "## Catching Specific Exceptions in Python\n",
    "\n",
    "In the above example, we did not mention any specific exception in the **`except`** clause.\n",
    "\n",
    "This is not a good programming practice as it will catch all exceptions and handle every case in the same way. We can specify which exceptions an **`except`** clause should catch.\n",
    "\n",
    "A **`try`** clause can have any number of **`except`** clauses to handle different exceptions, however, only one will be executed in case an exception occurs.\n",
    "\n",
    "We can use a tuple of values to specify multiple exceptions in an **`except`** clause. Here is an example pseudo code.\n",
    "\n",
    "```python\n",
    ">>> try:\n",
    ">>>    # do something\n",
    ">>>    pass\n",
    "\n",
    ">>> except ValueError:\n",
    ">>>    # handle ValueError exception\n",
    ">>>    pass\n",
    "\n",
    ">>> except (TypeError, ZeroDivisionError):\n",
    ">>>    # handle multiple exceptions\n",
    ">>>    # TypeError and ZeroDivisionError\n",
    ">>>    pass\n",
    "\n",
    ">>> except:\n",
    ">>>    # handle all other exceptions\n",
    ">>>    pass\n",
    "```"
   ]
  },
  {
   "cell_type": "markdown",
   "metadata": {},
   "source": [
    "## Raising Exceptions in Python\n",
    "\n",
    "In Python programming, exceptions are raised when errors occur at runtime. We can also manually **`raise`** exceptions using the raise keyword.\n",
    "\n",
    "We can optionally pass values to the exception to clarify why that exception was raised."
   ]
  },
  {
   "cell_type": "code",
   "execution_count": 13,
   "metadata": {
    "ExecuteTime": {
     "end_time": "2021-10-18T18:22:50.194545Z",
     "start_time": "2021-10-18T18:22:40.446502Z"
    }
   },
   "outputs": [
    {
     "name": "stdout",
     "output_type": "stream",
     "text": [
      "Enter a positive integer:  3\n"
     ]
    }
   ],
   "source": [
    "try:\n",
    "    a = int(input(\"Enter a positive integer: \"))\n",
    "    if a <= 0:\n",
    "        raise ValueError(\"That is not a positive number!\")\n",
    "except ValueError as ve:\n",
    "    print(ve)"
   ]
  },
  {
   "cell_type": "markdown",
   "metadata": {},
   "source": [
    "### Python `try` with `else` clause\n",
    "\n",
    "In some situations, you might want to run a certain block of code if the code block inside `try` ran without any errors. For these cases, you can use the optional `else` keyword with the `try` statement.\n",
    "\n",
    ">**Note**: Exceptions in the else clause are not handled by the preceding except clauses.\n",
    "\n",
    "```python\n",
    ">>> try:\n",
    ">>>    You do your operations here\n",
    ">>>    ......................\n",
    ">>> except ExceptionI:\n",
    ">>>    If there is ExceptionI, then execute this block.\n",
    ">>> except ExceptionII:\n",
    ">>>    If there is ExceptionII, then execute this block.\n",
    ">>>    ......................\n",
    ">>> else:\n",
    ">>>    If there is no exception then execute this block.\n",
    "```"
   ]
  },
  {
   "cell_type": "markdown",
   "metadata": {},
   "source": [
    "With our **“Hello, World!”** program written, we are ready to run the program. We’ll use the python3 command along with the name of our program file. Let’s run the program:\n",
    "\n",
    "* A single try statement can have multiple except statements. This is useful when the **try block** contains statements that may throw different types of exceptions.\n",
    "\n",
    "* You can also provide a **generic except** clause, which handles any exception. \n",
    "\n",
    "* After the **except** clause(s), you can include an else-clause. The code in the else-block executes if the code in the try: block does not raise an exception. \n",
    "\n",
    "* The **else-block** is a good place for code that does not need the try: block's protection."
   ]
  },
  {
   "cell_type": "code",
   "execution_count": 14,
   "metadata": {
    "ExecuteTime": {
     "end_time": "2021-10-18T18:22:56.773645Z",
     "start_time": "2021-10-18T18:22:56.763883Z"
    }
   },
   "outputs": [
    {
     "name": "stdout",
     "output_type": "stream",
     "text": [
      "Written content in the file successfully\n"
     ]
    }
   ],
   "source": [
    "# Example 1:\n",
    "\n",
    "try:\n",
    "    fh = open(\"testfile.txt\", \"w\")\n",
    "    fh.write(\"This is my test file for exception handling!!\")\n",
    "except IOError:\n",
    "    print (\"Error: can\\'t find file or read data\")\n",
    "else:\n",
    "    print (\"Written content in the file successfully\")\n",
    "    fh.close()"
   ]
  },
  {
   "cell_type": "code",
   "execution_count": null,
   "metadata": {
    "ExecuteTime": {
     "end_time": "2021-10-18T18:23:10.926958Z",
     "start_time": "2021-10-18T18:23:02.681849Z"
    },
    "scrolled": true
   },
   "outputs": [],
   "source": [
    "# Example 2: program to print the reciprocal of even numbers\n",
    "\n",
    "try:\n",
    "    num = int(input(\"Enter a number: \"))\n",
    "    assert num % 2 == 0\n",
    "except:\n",
    "    print(\"Not an even number!\")\n",
    "else:\n",
    "    reciprocal = 1/num\n",
    "    print(reciprocal)"
   ]
  },
  {
   "cell_type": "markdown",
   "metadata": {},
   "source": [
    "**Explanation**:\n",
    "\n",
    "If we pass an odd number:\n",
    "\n",
    "```python\n",
    "Enter a number: 1\n",
    "Not an even number!\n",
    "```\n",
    "\n",
    "If we pass an even number, the reciprocal is computed and displayed.\n",
    "\n",
    "```python\n",
    "Enter a number: 4\n",
    "0.25\n",
    "```\n",
    "\n",
    "However, if we pass 0, we get **`ZeroDivisionError`** as the code block inside else is not handled by preceding except.\n",
    "\n",
    "```python\n",
    "Enter a number: 0\n",
    "Traceback (most recent call last):\n",
    "  File \"<string>\", line 7, in <module>\n",
    "    reciprocal = 1/num\n",
    "ZeroDivisionError: division by zero\n",
    "```"
   ]
  },
  {
   "cell_type": "markdown",
   "metadata": {},
   "source": [
    "## The `except` Clause with No Exceptions\n",
    "\n",
    "You can also use the except statement with no exceptions defined as follows\n",
    "\n",
    "```python\n",
    ">>> try:\n",
    ">>>    You do your operations here\n",
    ">>>    ......................\n",
    ">>> except:\n",
    ">>>    If there is any exception, then execute this block.\n",
    ">>>    ......................\n",
    ">>> else:\n",
    ">>>    If there is no exception then execute this block\n",
    "```\n",
    "\n",
    "This kind of a **try-except** statement catches all the exceptions that occur. Using this kind of try-except statement is not considered a good programming practice though, because it catches all exceptions but does not make the programmer identify the root cause of the problem that may occur."
   ]
  },
  {
   "cell_type": "markdown",
   "metadata": {},
   "source": [
    "## The `except` Clause with Multiple Exceptions\n",
    "\n",
    "You can also use the same except statement to handle multiple exceptions as follows −\n",
    "\n",
    "```python\n",
    ">>>try:\n",
    ">>>   You do your operations here\n",
    ">>>   ......................\n",
    ">>>except(Exception1[, Exception2[,...ExceptionN]]]):\n",
    ">>>   If there is any exception from the given exception list,\n",
    ">>>   then execute this block.\n",
    ">>>   ......................\n",
    ">>>else:\n",
    ">>>   If there is no exception then execute this block.\n",
    "```"
   ]
  },
  {
   "cell_type": "markdown",
   "metadata": {},
   "source": [
    "## Python `try`-`finally` Clause\n",
    "\n",
    "The **`try`** statement in Python can have an optional **`finally`** clause. This clause is executed no matter what, and is generally used to release external resources.\n",
    "\n",
    "For example, we may be connected to a remote data center through the network or working with a file or a Graphical User Interface (GUI).\n",
    "\n",
    "In all these circumstances, we must clean up the resource before the program comes to a halt whether it successfully ran or not. These actions (closing a file, GUI or disconnecting from network) are performed in the **`finally`** clause to guarantee the execution.\n",
    "\n",
    "You can use a **finally: block** along with a try: block. The finally: block is a place to put any code that must execute, whether the **try-block** raised an exception or not. The syntax of the **try-finally** statement is this −\n",
    "\n",
    "```python\n",
    ">>> try:\n",
    ">>>    You do your operations here;\n",
    ">>>     ......................\n",
    ">>>    Due to any exception, this may be skipped.\n",
    ">>> finally:\n",
    ">>>    This would always be executed.\n",
    ">>>    ......................\n",
    "```\n"
   ]
  },
  {
   "cell_type": "code",
   "execution_count": null,
   "metadata": {
    "ExecuteTime": {
     "end_time": "2021-10-18T18:23:19.191606Z",
     "start_time": "2021-10-18T18:23:19.177935Z"
    }
   },
   "outputs": [],
   "source": [
    "try:\n",
    "    fh = open(\"testfile.txt\", \"w\")\n",
    "    fh.write(\"This is my test file for exception handling!!\")\n",
    "finally:\n",
    "    print (\"Error: can\\'t find file or read data\")\n",
    "    fh.close()\n",
    "    \n",
    "# If you do not have permission to open the file in writing mode, \n",
    "# then this will produce the following result −"
   ]
  },
  {
   "cell_type": "markdown",
   "metadata": {},
   "source": [
    "Here is an example of **[file operations](https://github.com/milaan9/05_Python_Files/blob/main/001_Python_File_Input_Output.ipynb)** to illustrate this."
   ]
  },
  {
   "cell_type": "code",
   "execution_count": null,
   "metadata": {
    "ExecuteTime": {
     "end_time": "2021-10-18T18:23:30.807811Z",
     "start_time": "2021-10-18T18:23:30.786329Z"
    }
   },
   "outputs": [],
   "source": [
    "try:\n",
    "    f = open(\"testfile.txt\",encoding = 'utf-8')\n",
    "    # perform file operations\n",
    "finally:\n",
    "    f.close()"
   ]
  },
  {
   "cell_type": "markdown",
   "metadata": {},
   "source": [
    "**Explanation**:\n",
    "\n",
    "This type of construct makes sure that the file is closed even if an exception occurs during the program execution."
   ]
  },
  {
   "cell_type": "markdown",
   "metadata": {},
   "source": [
    "In the **# Example 5:** code above the output is going to be **`TypeError`**.\n",
    "Now, let's add an additional block:"
   ]
  },
  {
   "cell_type": "code",
   "execution_count": 5,
   "metadata": {
    "ExecuteTime": {
     "end_time": "2021-10-18T18:23:52.480166Z",
     "start_time": "2021-10-18T18:23:45.979682Z"
    },
    "scrolled": true
   },
   "outputs": [
    {
     "name": "stdout",
     "output_type": "stream",
     "text": [
      "You are sdkjlf. And your age is 911.\n",
      "I usually run with the try block\n",
      "I alway run.\n"
     ]
    }
   ],
   "source": [
    "# Example:\n",
    "\n",
    "try:\n",
    "    name = input('Enter your name: ')\n",
    "    year_born = input('Year you born: ')\n",
    "    age = 2022 - int(year_born)\n",
    "    print(f'You are {name}. And your age is {age}.')\n",
    "except TypeError:\n",
    "    print('Type error occur')\n",
    "except ValueError:\n",
    "    print('Value error occur')\n",
    "except ZeroDivisionError:\n",
    "    print('zero division error occur')\n",
    "else:\n",
    "    print('I usually run with the try block')\n",
    "finally:\n",
    "    print('I alway run.')"
   ]
  },
  {
   "cell_type": "markdown",
   "metadata": {},
   "source": [
    "It is also shorten the above code as follows:"
   ]
  },
  {
   "cell_type": "code",
   "execution_count": null,
   "metadata": {
    "ExecuteTime": {
     "end_time": "2021-10-18T18:24:01.871273Z",
     "start_time": "2021-10-18T18:23:56.755068Z"
    }
   },
   "outputs": [],
   "source": [
    "try:\n",
    "    name = input('Enter your name: ')\n",
    "    year_born = input('Year you born: ')\n",
    "    age = 2022 - int(year_born)\n",
    "    print(f'You are {name}. And your age is {age}.')\n",
    "except Exception as e:\n",
    "    print(e)"
   ]
  },
  {
   "cell_type": "markdown",
   "metadata": {},
   "source": [
    "## Argument of an Exception\n",
    "\n",
    "An exception can have an **argument**, which is a value that gives additional information about the problem. The contents of the argument vary by exception. You capture an exception's argument by supplying a variable in the except clause as follows −"
   ]
  },
  {
   "cell_type": "code",
   "execution_count": 6,
   "metadata": {
    "ExecuteTime": {
     "end_time": "2021-10-18T18:24:05.502131Z",
     "start_time": "2021-10-18T18:24:05.484558Z"
    }
   },
   "outputs": [
    {
     "name": "stdout",
     "output_type": "stream",
     "text": [
      "The argument does not contain numbers\n",
      " invalid literal for int() with base 10: 'xyz'\n"
     ]
    }
   ],
   "source": [
    "# Define a function here.\n",
    "def temp_convert(var):\n",
    "    try:\n",
    "        return int(var)\n",
    "    except ValueError as Argument:\n",
    "        print (\"The argument does not contain numbers\\n\", Argument)\n",
    "\n",
    "# Call above function here.\n",
    "temp_convert(\"xyz\")"
   ]
  },
  {
   "cell_type": "markdown",
   "metadata": {},
   "source": [
    "## Raising an Exception\n",
    "\n",
    "You can raise exceptions in several ways by using the **`raise`** statement. \n",
    "\n",
    "The general syntax for the **`raise`** statement is as follows:\n",
    "\n",
    "```python\n",
    "raise [Exception [, args [, traceback]]]\n",
    "```\n",
    "\n",
    "Here, Exception is the type of exception (for example, **NameError**) and argument is a value for the exception argument. The argument is optional; if not supplied, the exception argument is None.\n",
    "\n",
    "The final argument, traceback, is also optional (and rarely used in practice), and if present, is the traceback object used for the exception."
   ]
  },
  {
   "cell_type": "code",
   "execution_count": 7,
   "metadata": {
    "ExecuteTime": {
     "end_time": "2021-10-18T18:24:08.211606Z",
     "start_time": "2021-10-18T18:24:08.203795Z"
    }
   },
   "outputs": [
    {
     "name": "stdout",
     "output_type": "stream",
     "text": [
      "error in level argument -10\n"
     ]
    }
   ],
   "source": [
    "def functionName( level ):\n",
    "    if level < 1:\n",
    "        raise Exception(level)\n",
    "        # The code below to this would not be executed\n",
    "        # if we raise the exception\n",
    "    return level\n",
    "\n",
    "try:\n",
    "    l = functionName(-10)\n",
    "    print (\"level = \",l)\n",
    "except Exception as e:\n",
    "    print (\"error in level argument\",e.args[0])"
   ]
  },
  {
   "cell_type": "markdown",
   "metadata": {},
   "source": [
    "## Writing the “Hello, World!” Program\n",
    "\n",
    "Python also allows you to create your own exceptions by deriving classes from the standard **built-in exceptions**.\n",
    "\n",
    "Here is an example related to **RuntimeError**. Here, a class is created that is subclassed from RuntimeError. This is useful when you need to display more **specific information** when an exception is caught.\n",
    "\n",
    "In the try block, the user-defined exception is raised and caught in the except block. The variable e is used to create an instance of the class **Networkerror**.\n",
    "\n",
    "```python\n",
    ">>> class Networkerror(RuntimeError):\n",
    ">>>     def _init_(self, arg):\n",
    ">>>        self.args = arg\n",
    "```\n",
    "       \n",
    "So once you have defined the above class, you can raise the exception as follows −\n",
    "\n",
    "```python\n",
    ">>> try:\n",
    ">>>    raise Networkerror(\"Bad hostname\")\n",
    ">>> except Networkerror,e:\n",
    ">>>    print(e.args)\n",
    "```"
   ]
  },
  {
   "cell_type": "markdown",
   "metadata": {},
   "source": [
    "## 💻 Exercises ➞ <span class='label label-default'>Exceptions Handling</span>\n",
    "\n",
    "### Exercises ➞ <span class='label label-default'>Level 1</span>\n",
    "\n",
    "1. names = ['Finland', 'Sweden', 'Norway','Denmark','Iceland', 'Estonia','Russia']. Unpack the first five countries and store them in a variable **`nordic_countries`**, store Estonia and Russia in es, and ru respectively."
   ]
  }
 ],
 "metadata": {
  "hide_input": false,
  "kernelspec": {
   "display_name": "Python 3.10.1 64-bit",
   "language": "python",
   "name": "python3"
  },
  "language_info": {
   "codemirror_mode": {
    "name": "ipython",
    "version": 3
   },
   "file_extension": ".py",
   "mimetype": "text/x-python",
   "name": "python",
   "nbconvert_exporter": "python",
   "pygments_lexer": "ipython3",
   "version": "3.10.1"
  },
  "toc": {
   "base_numbering": 1,
   "nav_menu": {},
   "number_sections": true,
   "sideBar": true,
   "skip_h1_title": false,
   "title_cell": "Table of Contents",
   "title_sidebar": "Contents",
   "toc_cell": false,
   "toc_position": {},
   "toc_section_display": true,
   "toc_window_display": false
  },
  "varInspector": {
   "cols": {
    "lenName": 16,
    "lenType": 16,
    "lenVar": 40
   },
   "kernels_config": {
    "python": {
     "delete_cmd_postfix": "",
     "delete_cmd_prefix": "del ",
     "library": "var_list.py",
     "varRefreshCmd": "print(var_dic_list())"
    },
    "r": {
     "delete_cmd_postfix": ") ",
     "delete_cmd_prefix": "rm(",
     "library": "var_list.r",
     "varRefreshCmd": "cat(var_dic_list()) "
    }
   },
   "types_to_exclude": [
    "module",
    "function",
    "builtin_function_or_method",
    "instance",
    "_Feature"
   ],
   "window_display": false
  },
  "vscode": {
   "interpreter": {
    "hash": "fbc768028c3e6ead51d9a200ddcb2ec858ae62844dcd1994729a8279be9b48f2"
   }
  }
 },
 "nbformat": 4,
 "nbformat_minor": 4
}
